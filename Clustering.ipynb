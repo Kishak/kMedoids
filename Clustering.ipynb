{
 "cells": [
  {
   "cell_type": "code",
   "execution_count": 152,
   "metadata": {
    "collapsed": true
   },
   "outputs": [],
   "source": [
    "%matplotlib inline\n",
    "import numpy as np\n",
    "import random as rand\n",
    "import matplotlib.pyplot as plt\n",
    "import copy\n",
    "import os"
   ]
  },
  {
   "cell_type": "code",
   "execution_count": 141,
   "metadata": {
    "collapsed": false
   },
   "outputs": [],
   "source": [
    "#data = np.random.rand(100, 2);\n",
    "k = 3; # number_of_clusters"
   ]
  },
  {
   "cell_type": "code",
   "execution_count": 168,
   "metadata": {
    "collapsed": false
   },
   "outputs": [
    {
     "name": "stdout",
     "output_type": "stream",
     "text": [
      "bird\n",
      "[[ 0.  0.  0. ...,  0.  0.  0.]\n",
      " [ 0.  0.  0. ...,  0.  0.  0.]\n",
      " [ 0.  0.  0. ...,  0.  0.  0.]\n",
      " ..., \n",
      " [ 0.  0.  0. ...,  0.  0.  0.]\n",
      " [ 0.  0.  0. ...,  0.  0.  0.]\n",
      " [ 0.  0.  0. ...,  0.  0.  0.]]\n"
     ]
    }
   ],
   "source": [
    "root = \"/media/melchior/6B52-1BA6/P5-Clustering/GygiAnalysis\";\n",
    "path = os.path.join(root, \"AnalysisOfGygiDataset.npz\");\n",
    "data = np.load(path); \n",
    "data = data['arr_0'].item()\n",
    "\n",
    "print data['labels'][10]\n",
    "\n",
    "path = os.path.join(root, data['labels'][10], 'rawFeatures.npz')\n",
    "raw = np.load(path);\n",
    "raw = raw['arr_0'].item();\n",
    "print raw['Ts']"
   ]
  },
  {
   "cell_type": "code",
   "execution_count": 142,
   "metadata": {
    "collapsed": false
   },
   "outputs": [],
   "source": [
    "# ------------ Compute all the costs ------------\n",
    "\n",
    "def manhattan_distance(p1, p2):\n",
    "    return sum(abs(p1 - p2))\n",
    "\n",
    "def distance_map(data, medoid):\n",
    "    return np.apply_along_axis(manhattan_distance, 1, data, medoid)\n",
    "\n",
    "def compute_distances(data, medoids):\n",
    "    distances = [distance_map(data, medoid) for medoid in medoids]    \n",
    "    return np.array(distances);\n",
    "\n",
    "# ------------ Find index where distance is min ------------\n",
    "\n",
    "def find_min_index(values):\n",
    "    x, i = min((x, i) for (i, x) in enumerate(values))\n",
    "    return i;\n",
    "\n",
    "def compute_indexes(distances):\n",
    "    indexes = np.zeros((len(data)));\n",
    "    for i in range(0, len(data)):\n",
    "        indexes[i] = find_min_index(distances[:,i]);\n",
    "    return indexes;\n",
    "\n",
    "# ------------ Compute total cost (convergence parameter) ------------\n",
    "\n",
    "def compute_total_cost(distances, indexes):\n",
    "    total_cost = 0;\n",
    "    for i in range(0, len(data)):\n",
    "        total_cost += distances[indexes[i], i];\n",
    "    return total_cost;\n",
    "\n",
    "# ------------ Group together cluster data ------------\n",
    "\n",
    "def gather_cluster(cluster, indexes):\n",
    "    equals = lambda i : indexes[i] == cluster;\n",
    "    filtered_indexes = filter(equals, range(0, len(data)));\n",
    "    return data[filtered_indexes];\n",
    "\n",
    "def gather_clusters(indexes):\n",
    "    return [gather_cluster(i, indexes) for i in range(0, k)];\n",
    "\n",
    "# --------------- Medoid generator ------------------\n",
    "\n",
    "def generate_new_medoid(medoids, clusters):\n",
    "    C = rand.randint(0, k-1); # choose random cluster\n",
    "    \n",
    "    if len(clusters[C]) == 0:\n",
    "        # ??\n",
    "        return;\n",
    "    \n",
    "    if len(clusters[C]) == 1: \n",
    "        medoids[C] = clusters[C][0];\n",
    "        \n",
    "    else:\n",
    "        I = rand.randint(0, len(clusters[C])-1); \n",
    "        medoids[C] = clusters[C][I];"
   ]
  },
  {
   "cell_type": "code",
   "execution_count": null,
   "metadata": {
    "collapsed": false
   },
   "outputs": [],
   "source": []
  },
  {
   "cell_type": "code",
   "execution_count": 143,
   "metadata": {
    "collapsed": false
   },
   "outputs": [
    {
     "name": "stdout",
     "output_type": "stream",
     "text": [
      "Iter: 0 > Current cost: 43.0968073985\n",
      "Iter: 1 > Better cost found: 39.4730559011\n",
      "Iter: 3 > Better cost found: 36.6482211102\n",
      "Iter: 4 > Better cost found: 35.2973670109\n",
      "Iter: 5 > Better cost found: 34.3366571052\n",
      "Iter: 6 > Better cost found: 30.2255863597\n",
      "Iter: 12 > Better cost found: 30.1346975352\n",
      "Iter: 27 > Better cost found: 29.7975824751\n",
      "Iter: 29 > Better cost found: 29.6497063391\n",
      "Iter: 102 > Better cost found: 29.4075218125\n",
      "Iter: 166 > Better cost found: 29.3495013981\n",
      "Iter: 288 > Better cost found: 29.3147272387\n"
     ]
    },
    {
     "data": {
      "image/png": "[encoded data removed]",
      "text/plain": [
       "<matplotlib.figure.Figure at 0x7f989d8a4610>"
      ]
     },
     "metadata": {},
     "output_type": "display_data"
    }
   ],
   "source": [
    "max_iter = 1000;\n",
    "\n",
    "# First Iteration\n",
    "\n",
    "old_medoids = rand.sample(data, k); # first K medoids are random\n",
    "distances = compute_distances(data, old_medoids); # compute distance beetween points and medoids\n",
    "indexes = compute_indexes(distances); # find indexes where the distance is minimized\n",
    "clusters = gather_clusters(indexes); # use indexes to group up the cluster data\n",
    "old_cost = compute_total_cost(distances, indexes); # calculate first cost\n",
    "\n",
    "print 'Iter: 0 > Current cost: {0}'.format(old_cost);\n",
    "\n",
    "# Algorithm Loop\n",
    "\n",
    "for iteration in range(1, max_iter):\n",
    "    new_medoids = copy.copy(old_medoids); \n",
    "    generate_new_medoid(new_medoids, clusters); # generate new medoid\n",
    "    \n",
    "    distances = compute_distances(data, new_medoids); # compute distance beetween points and medoids\n",
    "    indexes = compute_indexes(distances); # find indexes where the distance is minimized\n",
    "    clusters = gather_clusters(indexes); # use indexes to group up the cluster data\n",
    "    new_cost = compute_total_cost(distances, indexes); # calculate first cost\n",
    "    \n",
    "    if new_cost < old_cost:\n",
    "        print 'Iter: {0} > Better cost found: {1}'.format(iteration, new_cost);\n",
    "        old_cost = new_cost;\n",
    "        old_medoids = new_medoids;\n",
    "\n",
    "# Recalculate the best setup and plot it\n",
    "\n",
    "distances = compute_distances(data, old_medoids); # compute distance beetween points and medoids\n",
    "indexes = compute_indexes(distances); # find indexes where the distance is minimized\n",
    "clusters = gather_clusters(indexes); # use indexes to group up the cluster data\n",
    "\n",
    "for cluster in clusters:\n",
    "    plt.plot(cluster[:,0], cluster[:,1], 'p');\n",
    "medoids = np.array(old_medoids);\n",
    "plt.plot(medoids[:,0], medoids[:,1], 'pc');"
   ]
  },
  {
   "cell_type": "code",
   "execution_count": null,
   "metadata": {
    "collapsed": true
   },
   "outputs": [],
   "source": []
  }
 ],
 "metadata": {
  "kernelspec": {
   "display_name": "Python 2",
   "language": "python",
   "name": "python2"
  },
  "language_info": {
   "codemirror_mode": {
    "name": "ipython",
    "version": 2
   },
   "file_extension": ".py",
   "mimetype": "text/x-python",
   "name": "python",
   "nbconvert_exporter": "python",
   "pygments_lexer": "ipython2",
   "version": "2.7.10"
  }
 },
 "nbformat": 4,
 "nbformat_minor": 0
}

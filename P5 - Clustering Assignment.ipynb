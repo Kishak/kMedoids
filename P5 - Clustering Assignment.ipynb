{
 "cells": [
  {
   "cell_type": "code",
   "execution_count": 16,
   "metadata": {
    "collapsed": true
   },
   "outputs": [],
   "source": [
    "%matplotlib inline\n",
    "import numpy as np\n",
    "import matplotlib.pyplot as plt\n",
    "import os\n",
    "from scipy import stats"
   ]
  },
  {
   "cell_type": "code",
   "execution_count": 41,
   "metadata": {
    "collapsed": true
   },
   "outputs": [],
   "source": [
    "root = \"/home/melchior/extended/P5-Clustering/GygiAnalysis\";\n",
    "output_file = \"distances.npy\";\n",
    "\n",
    "path = os.path.join(root, \"AnalysisOfGygiDataset.npz\");\n",
    "dataset = np.load(path); \n",
    "dataset = dataset['arr_0'].item()\n",
    "\n",
    "labels = dataset['labels'];"
   ]
  },
  {
   "cell_type": "code",
   "execution_count": 11,
   "metadata": {
    "collapsed": false
   },
   "outputs": [
    {
     "name": "stdout",
     "output_type": "stream",
     "text": [
      "Processing airplan\n",
      "Processing airplana\n",
      "Processing axe\n",
      "Processing axea\n",
      "Processing babya\n",
      "Processing babycry\n",
      "Processing bball\n",
      "Processing bballa\n",
      "Processing bells\n",
      "Processing bellsa\n",
      "Processing bird\n",
      "Processing birda\n",
      "Processing bowlin\n",
      "Processing bowlina\n",
      "Processing bubblesa\n",
      "Processing bubles\n",
      "Processing carstart\n",
      "Processing carstrta\n",
      "Processing cata\n",
      "Processing catx\n",
      "Processing clap\n",
      "Processing clapsa\n",
      "Processing clock\n",
      "Processing clocka\n",
      "Processing copter\n",
      "Processing coptera\n",
      "Processing cough\n",
      "Processing cougha\n",
      "Processing cowa\n",
      "Processing cowx\n",
      "Processing cymbala\n",
      "Processing cymbol\n",
      "Processing doga\n",
      "Processing dogx2\n",
      "Processing dooroc\n",
      "Processing dooroca\n",
      "Processing drumbeat\n",
      "Processing drumsa\n",
      "Processing elecsaw\n",
      "Processing elecsawa\n",
      "Processing footstp\n",
      "Processing footstpa\n",
      "Processing glassbr\n",
      "Processing glassbra\n",
      "Processing gun\n",
      "Processing guna\n",
      "Processing harp\n",
      "Processing harpa\n",
      "Processing horserna\n",
      "Processing horserun\n",
      "Processing horsewin\n",
      "Processing horsewna\n",
      "Processing icedrop\n",
      "Processing icedropa\n",
      "Processing keybrd\n",
      "Processing keybrda\n",
      "Processing laugh\n",
      "Processing laugha\n",
      "Processing match\n",
      "Processing matcha\n",
      "Processing peelout\n",
      "Processing peelouta\n",
      "Processing phone\n",
      "Processing phonea\n",
      "Processing pingp\n",
      "Processing pingpa\n",
      "Processing pour2\n",
      "Processing poura\n",
      "Processing rain2\n",
      "Processing raina\n",
      "Processing rooster\n",
      "Processing roostera\n",
      "Processing scissor\n",
      "Processing scissora\n",
      "Processing sheepa\n",
      "Processing sheepbaa\n",
      "Processing siren\n",
      "Processing sirena\n",
      "Processing sneeze\n",
      "Processing sneezea\n",
      "Processing splash\n",
      "Processing splasha\n",
      "Processing thunder\n",
      "Processing thundera\n",
      "Processing toilet\n",
      "Processing toileta\n",
      "Processing trafjam\n",
      "Processing trafjama\n",
      "Processing train\n",
      "Processing traina\n",
      "Processing typewri\n",
      "Processing typewria\n",
      "Processing waves\n",
      "Processing wavesa\n",
      "Processing whistle\n",
      "Processing whistlea\n",
      "Processing wipers\n",
      "Processing wipersa\n",
      "Processing zipper\n",
      "Processing zippera\n",
      "done...\n"
     ]
    }
   ],
   "source": [
    "# Data Pre Processing\n",
    "raw_data = [];\n",
    "\n",
    "for label in labels:\n",
    "    print \"Processing {0}\".format(label);\n",
    "    path = os.path.join(root, label, 'rawFeatures.npz');\n",
    "    raw = np.load(path);\n",
    "    raw = raw['arr_0'].item();    \n",
    "    raw_data.append(raw['Ts'].flatten());\n",
    "\n",
    "print 'done...'"
   ]
  },
  {
   "cell_type": "code",
   "execution_count": 31,
   "metadata": {
    "collapsed": false
   },
   "outputs": [
    {
     "name": "stdout",
     "output_type": "stream",
     "text": [
      "Processing row: 0\n",
      "Processing row: 1\n",
      "Processing row: 2\n",
      "Processing row: 3\n",
      "Processing row: 4\n",
      "Processing row: 5\n",
      "Processing row: 6\n",
      "Processing row: 7\n",
      "Processing row: 8\n",
      "Processing row: 9\n",
      "Processing row: 10\n",
      "Processing row: 11\n",
      "Processing row: 12\n",
      "Processing row: 13\n",
      "Processing row: 14\n",
      "Processing row: 15\n",
      "Processing row: 16\n",
      "Processing row: 17\n",
      "Processing row: 18\n",
      "Processing row: 19\n",
      "Processing row: 20\n",
      "Processing row: 21\n",
      "Processing row: 22\n",
      "Processing row: 23\n",
      "Processing row: 24\n",
      "Processing row: 25\n",
      "Processing row: 26\n",
      "Processing row: 27\n",
      "Processing row: 28\n",
      "Processing row: 29\n",
      "Processing row: 30\n",
      "Processing row: 31\n",
      "Processing row: 32\n",
      "Processing row: 33\n",
      "Processing row: 34\n",
      "Processing row: 35\n",
      "Processing row: 36\n",
      "Processing row: 37\n",
      "Processing row: 38\n",
      "Processing row: 39\n",
      "Processing row: 40\n",
      "Processing row: 41\n",
      "Processing row: 42\n",
      "Processing row: 43\n",
      "Processing row: 44\n",
      "Processing row: 45\n",
      "Processing row: 46\n",
      "Processing row: 47\n",
      "Processing row: 48\n",
      "Processing row: 49\n",
      "Processing row: 50\n",
      "Processing row: 51\n",
      "Processing row: 52\n",
      "Processing row: 53\n",
      "Processing row: 54\n",
      "Processing row: 55\n",
      "Processing row: 56\n",
      "Processing row: 57\n",
      "Processing row: 58\n",
      "Processing row: 59\n",
      "Processing row: 60\n",
      "Processing row: 61\n",
      "Processing row: 62\n",
      "Processing row: 63\n",
      "Processing row: 64\n",
      "Processing row: 65\n",
      "Processing row: 66\n",
      "Processing row: 67\n",
      "Processing row: 68\n",
      "Processing row: 69\n",
      "Processing row: 70\n",
      "Processing row: 71\n",
      "Processing row: 72\n",
      "Processing row: 73\n",
      "Processing row: 74\n",
      "Processing row: 75\n",
      "Processing row: 76\n",
      "Processing row: 77\n",
      "Processing row: 78\n",
      "Processing row: 79\n",
      "Processing row: 80\n",
      "Processing row: 81\n",
      "Processing row: 82\n",
      "Processing row: 83\n",
      "Processing row: 84\n",
      "Processing row: 85\n",
      "Processing row: 86\n",
      "Processing row: 87\n",
      "Processing row: 88\n",
      "Processing row: 89\n",
      "Processing row: 90\n",
      "Processing row: 91\n",
      "Processing row: 92\n",
      "Processing row: 93\n",
      "Processing row: 94\n",
      "Processing row: 95\n",
      "Processing row: 96\n",
      "Processing row: 97\n",
      "Processing row: 98\n",
      "Processing row: 99\n"
     ]
    }
   ],
   "source": [
    "# Compute Distance Matrix\n",
    "N = len(labels);\n",
    "distances = np.zeros((N,N));\n",
    "\n",
    "for row in xrange(0, N):\n",
    "    print \"Processing row: {0}\".format(row)\n",
    "    for col in xrange(0, 1+row):\n",
    "        if (col != row):            \n",
    "            distance = stats.ks_2samp(raw_data[row], raw_data[col])\n",
    "            distances[row, col] = distance[0];\n",
    "            distances[col, row] = distance[0];\n",
    "            \n",
    "print 'done...'"
   ]
  },
  {
   "cell_type": "code",
   "execution_count": 43,
   "metadata": {
    "collapsed": false
   },
   "outputs": [],
   "source": [
    "# Save distances\n",
    "np.save(output_file,distances)"
   ]
  },
  {
   "cell_type": "code",
   "execution_count": 40,
   "metadata": {
    "collapsed": false
   },
   "outputs": [],
   "source": [
    "# Load distances\n",
    "distances = np.load(output_file);"
   ]
  },
  {
   "cell_type": "code",
   "execution_count": 42,
   "metadata": {
    "collapsed": false
   },
   "outputs": [],
   "source": [
    "# Apply kMedoid Clustering"
   ]
  },
  {
   "cell_type": "code",
   "execution_count": null,
   "metadata": {
    "collapsed": true
   },
   "outputs": [],
   "source": []
  },
  {
   "cell_type": "code",
   "execution_count": null,
   "metadata": {
    "collapsed": false
   },
   "outputs": [],
   "source": []
  },
  {
   "cell_type": "code",
   "execution_count": null,
   "metadata": {
    "collapsed": false
   },
   "outputs": [],
   "source": []
  },
  {
   "cell_type": "code",
   "execution_count": null,
   "metadata": {
    "collapsed": true
   },
   "outputs": [],
   "source": []
  }
 ],
 "metadata": {
  "kernelspec": {
   "display_name": "Python 2",
   "language": "python",
   "name": "python2"
  },
  "language_info": {
   "codemirror_mode": {
    "name": "ipython",
    "version": 2
   },
   "file_extension": ".py",
   "mimetype": "text/x-python",
   "name": "python",
   "nbconvert_exporter": "python",
   "pygments_lexer": "ipython2",
   "version": "2.7.10"
  }
 },
 "nbformat": 4,
 "nbformat_minor": 0
}
